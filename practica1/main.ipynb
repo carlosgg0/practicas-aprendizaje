{
 "cells": [
  {
   "cell_type": "code",
   "execution_count": null,
   "id": "c51da38f",
   "metadata": {},
   "outputs": [],
   "source": [
    "import matplotlib.pyplot as plt\n",
    "import pandas as pd\n",
    "import numpy as np\n",
    "from sklearn.datasets import load_breast_cancer\n",
    "from sklearn.model_selection import train_test_split\n",
    "from sklearn.tree import DecisionTreeClassifier\n",
    "from sklearn.metrics import accuracy_score, confusion_matrix"
   ]
  },
  {
   "cell_type": "markdown",
   "id": "5a1c8397",
   "metadata": {},
   "source": [
    "## Cargar datos"
   ]
  },
  {
   "cell_type": "code",
   "execution_count": null,
   "id": "60a9dc85",
   "metadata": {},
   "outputs": [],
   "source": [
    "breast_cancer = load_breast_cancer()\n",
    "df = pd.DataFrame(data=breast_cancer.data, columns=breast_cancer.feature_names)\n",
    "df['target'] = breast_cancer.target\n",
    "\n",
    "df['target']"
   ]
  },
  {
   "cell_type": "markdown",
   "id": "3a4c7bb3",
   "metadata": {},
   "source": [
    "## Estadísticas Básicas\n"
   ]
  },
  {
   "cell_type": "code",
   "execution_count": null,
   "id": "c5ba0fb2",
   "metadata": {},
   "outputs": [],
   "source": [
    "# Veamos qué columnas tiene nuestro dataset\n",
    "print(breast_cancer.feature_names, \"\\n\")\n",
    "\n",
    "mean_radius = np.array(df[\"mean radius\"])\n",
    "print(\"Existen \", mean_radius.shape, \"muestras\")"
   ]
  },
  {
   "cell_type": "code",
   "execution_count": null,
   "id": "fc75b01f",
   "metadata": {},
   "outputs": [],
   "source": [
    "# Media, mediana, desviación típica\n",
    "print(\"Media: \", np.mean(mean_radius))\n",
    "print(\"Mediana: \", np.median(mean_radius))\n",
    "print(\"Desviación típica\", np.std(mean_radius))"
   ]
  }
 ],
 "metadata": {
  "kernelspec": {
   "display_name": "venv",
   "language": "python",
   "name": "python3"
  },
  "language_info": {
   "name": "python",
   "version": "3.12.3"
  }
 },
 "nbformat": 4,
 "nbformat_minor": 5
}
